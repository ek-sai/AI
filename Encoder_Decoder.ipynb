{
  "nbformat": 4,
  "nbformat_minor": 0,
  "metadata": {
    "colab": {
      "provenance": [],
      "gpuType": "T4"
    },
    "kernelspec": {
      "name": "python3",
      "display_name": "Python 3"
    },
    "language_info": {
      "name": "python"
    },
    "accelerator": "GPU"
  },
  "cells": [
    {
      "cell_type": "code",
      "execution_count": null,
      "metadata": {
        "id": "YobptmmDLcFx"
      },
      "outputs": [],
      "source": [
        "import torch\n",
        "import torch.nn as nn\n",
        "import torch.optim as optim\n",
        "from torch.autograd import variable\n",
        "import torch.nn.functional as F\n",
        "import numpy as np\n",
        "import pandas as pd\n",
        "import matplotlib.pyplot as plt\n",
        "import seaborn as sns\n",
        "from IPython.display import clear_output\n",
        "import random\n",
        "import xml.etree.ElementTree as ET"
      ]
    },
    {
      "cell_type": "code",
      "source": [
        "from torch.utils.data import Dataset"
      ],
      "metadata": {
        "id": "-LnnhIE1RYGY"
      },
      "execution_count": null,
      "outputs": []
    },
    {
      "cell_type": "code",
      "source": [
        "device = torch.device(\"cuda\" if torch.cuda.is_available() else \"cpu\")"
      ],
      "metadata": {
        "id": "s5ED-F46geGr"
      },
      "execution_count": null,
      "outputs": []
    },
    {
      "cell_type": "code",
      "source": [
        "eng_alphabets = 'ABCDEFGHIJKLMNOPQRSTUVWXYZ'\n",
        "pad_char ='-PAD-'\n",
        "eng_alpha2index = {pad_char:0}\n",
        "for index,letter in enumerate(eng_alphabets):\n",
        "    eng_alpha2index[letter] = index+1\n",
        "\n",
        "print(eng_alpha2index)"
      ],
      "metadata": {
        "id": "kY1s4KFHMBWn",
        "colab": {
          "base_uri": "https://localhost:8080/"
        },
        "outputId": "5541f94b-b72b-4274-983b-62717d3c9374"
      },
      "execution_count": null,
      "outputs": [
        {
          "output_type": "stream",
          "name": "stdout",
          "text": [
            "{'-PAD-': 0, 'A': 1, 'B': 2, 'C': 3, 'D': 4, 'E': 5, 'F': 6, 'G': 7, 'H': 8, 'I': 9, 'J': 10, 'K': 11, 'L': 12, 'M': 13, 'N': 14, 'O': 15, 'P': 16, 'Q': 17, 'R': 18, 'S': 19, 'T': 20, 'U': 21, 'V': 22, 'W': 23, 'X': 24, 'Y': 25, 'Z': 26}\n"
          ]
        }
      ]
    },
    {
      "cell_type": "code",
      "source": [
        "hindi_alphabets = [chr(alpha) for alpha in range(2304,2432)]\n",
        "hindi_alphabets_size = len(hindi_alphabets)\n",
        "\n",
        "hindi_alpha2index = {pad_char:0}\n",
        "for index,letter in enumerate(hindi_alphabets):\n",
        "    hindi_alpha2index[letter] = index+1\n",
        "\n",
        "print(hindi_alpha2index)"
      ],
      "metadata": {
        "id": "uhUxCfm_NSWK",
        "colab": {
          "base_uri": "https://localhost:8080/"
        },
        "outputId": "1baacf85-1d65-4ef3-e2f3-c723ddc244eb"
      },
      "execution_count": null,
      "outputs": [
        {
          "output_type": "stream",
          "name": "stdout",
          "text": [
            "{'-PAD-': 0, 'ऀ': 1, 'ँ': 2, 'ं': 3, 'ः': 4, 'ऄ': 5, 'अ': 6, 'आ': 7, 'इ': 8, 'ई': 9, 'उ': 10, 'ऊ': 11, 'ऋ': 12, 'ऌ': 13, 'ऍ': 14, 'ऎ': 15, 'ए': 16, 'ऐ': 17, 'ऑ': 18, 'ऒ': 19, 'ओ': 20, 'औ': 21, 'क': 22, 'ख': 23, 'ग': 24, 'घ': 25, 'ङ': 26, 'च': 27, 'छ': 28, 'ज': 29, 'झ': 30, 'ञ': 31, 'ट': 32, 'ठ': 33, 'ड': 34, 'ढ': 35, 'ण': 36, 'त': 37, 'थ': 38, 'द': 39, 'ध': 40, 'न': 41, 'ऩ': 42, 'प': 43, 'फ': 44, 'ब': 45, 'भ': 46, 'म': 47, 'य': 48, 'र': 49, 'ऱ': 50, 'ल': 51, 'ळ': 52, 'ऴ': 53, 'व': 54, 'श': 55, 'ष': 56, 'स': 57, 'ह': 58, 'ऺ': 59, 'ऻ': 60, '़': 61, 'ऽ': 62, 'ा': 63, 'ि': 64, 'ी': 65, 'ु': 66, 'ू': 67, 'ृ': 68, 'ॄ': 69, 'ॅ': 70, 'ॆ': 71, 'े': 72, 'ै': 73, 'ॉ': 74, 'ॊ': 75, 'ो': 76, 'ौ': 77, '्': 78, 'ॎ': 79, 'ॏ': 80, 'ॐ': 81, '॑': 82, '॒': 83, '॓': 84, '॔': 85, 'ॕ': 86, 'ॖ': 87, 'ॗ': 88, 'क़': 89, 'ख़': 90, 'ग़': 91, 'ज़': 92, 'ड़': 93, 'ढ़': 94, 'फ़': 95, 'य़': 96, 'ॠ': 97, 'ॡ': 98, 'ॢ': 99, 'ॣ': 100, '।': 101, '॥': 102, '०': 103, '१': 104, '२': 105, '३': 106, '४': 107, '५': 108, '६': 109, '७': 110, '८': 111, '९': 112, '॰': 113, 'ॱ': 114, 'ॲ': 115, 'ॳ': 116, 'ॴ': 117, 'ॵ': 118, 'ॶ': 119, 'ॷ': 120, 'ॸ': 121, 'ॹ': 122, 'ॺ': 123, 'ॻ': 124, 'ॼ': 125, 'ॽ': 126, 'ॾ': 127, 'ॿ': 128}\n"
          ]
        }
      ]
    },
    {
      "cell_type": "code",
      "source": [
        "\n",
        "non_eng = re.compile('[^a-zA-Z ]')\n",
        "\n",
        "def cleanEnglishVocab(line):\n",
        "    line = line.replace('-',' ').replace(',', ' ').upper()\n",
        "    line = non_eng.sub('',line)\n",
        "    return line.split()\n",
        "\n",
        "def cleanHindiVocab(line):\n",
        "    line = line.replace('-',' ').replace(',', ' ')\n",
        "    cleaned_line =''\n",
        "    for char in line:\n",
        "        if char in hindi_alpha2index or char == ' ':\n",
        "            cleaned_line += char\n",
        "    return cleaned_line.split()"
      ],
      "metadata": {
        "id": "mNc6quZFOdJY"
      },
      "execution_count": null,
      "outputs": []
    },
    {
      "cell_type": "code",
      "source": [
        "class TransliterationDataLoader(Dataset):\n",
        "\n",
        "    def __init__(self,filename):\n",
        "        self.eng_words, self.hindi_words = self.readXmlDataset(filename,cleanHindiVocab)\n",
        "        self.shuffle_indices = list(range(len(self.eng_words)))\n",
        "        random.shuffle(self.shuffle_indices)\n",
        "        self.shuffle_start_index = 0\n",
        "\n",
        "    def __len__(self):\n",
        "        return len(self.eng_words)\n",
        "\n",
        "    def __getitem__(self,index):\n",
        "        return self.eng_words[index], self.hindi_words[index]\n",
        "\n",
        "    def readXmlDataset(self,filename,lang_vocab_cleaner):\n",
        "        translierationCorpus = ET.parse(filename).getroot()\n",
        "        eng_words = []\n",
        "        hindi_words = []\n",
        "        for word in translierationCorpus:\n",
        "            wordlist1 = cleanEnglishVocab(word[0].text)\n",
        "            wordlist2 = lang_vocab_cleaner(word[1].text)\n",
        "\n",
        "            if len(wordlist1) != len(wordlist2):\n",
        "                print('Skipping',word[0].text,'-',word[1].text)\n",
        "                continue\n",
        "            for word in wordlist1:\n",
        "                eng_words.append(word)\n",
        "            for word in wordlist2:\n",
        "                hindi_words.append(word)\n",
        "        return eng_words, hindi_words\n",
        "\n",
        "    def get_random_sample(self):\n",
        "        return self.__getitem__(np.random.randint(len(self.eng_words)))\n",
        "\n",
        "\n",
        "    def get_batch_from_array(self,batch_size,array):\n",
        "        end = self.shuffle_start_index + batch_size\n",
        "        batch = []\n",
        "        if end  >= len(self.eng_words):\n",
        "            batch = [array[i] for i in self.shuffle_indices[0:end%len(self.eng_words)]]\n",
        "            end = len(self.eng_words)\n",
        "        return batch + [array[i] for i in self.shuffle_indices[self.shuffle_start_index:end]]\n",
        "\n",
        "\n",
        "    def get_batch(self,batch_size,postprocess=True):\n",
        "        eng_batch = self.get_batch_from_array(batch_size,self.eng_words)\n",
        "        hindi_batch = self.get_batch_from_array(batch_size,self.hindi_words)\n",
        "        self.shuffle_start_index += batch_size + 1\n",
        "        if self.shuffle_start_index >= len(self.eng_words):\n",
        "            random.shuffle(self.shuffle_indices)\n",
        "            self.shuffle_start_index = 0\n",
        "        return eng_batch, hindi_batch"
      ],
      "metadata": {
        "id": "xesdhU_7QixP"
      },
      "execution_count": null,
      "outputs": []
    },
    {
      "cell_type": "code",
      "source": [
        "train_data = TransliterationDataLoader('./NEWS2012-Training-EnHi-13937.xml')\n",
        "test_data = TransliterationDataLoader('./NEWS2012-Ref-EnHi-1000.xml')"
      ],
      "metadata": {
        "collapsed": true,
        "id": "eTweieVAV0Dv",
        "colab": {
          "base_uri": "https://localhost:8080/"
        },
        "outputId": "6c3e462d-b8e6-4cb9-aca5-85d1219ad77f"
      },
      "execution_count": null,
      "outputs": [
        {
          "output_type": "stream",
          "name": "stdout",
          "text": [
            "Skipping BARHARWA JUNCTION - बरहरवा\n",
            "Skipping STATE BNK TR - स्टेट बैंक ऑफ त्रावणकोर\n",
            "Skipping SOUTH ARLINGTON CHURCH OF CHRIST - साउथ अर्लिंग्टन\n",
            "Skipping KING EDWARD VII - किंग एडवर्ड\n",
            "Skipping DIBANG VALLEY - दिबंगवैली\n",
            "Skipping ORDER OF VASA - ऑडर ऑफ़ द वासा\n",
            "Skipping AZAMNAGAR ROAD - आज़मनगर\n",
            "Skipping CAPE TOWN - केपटाउन\n",
            "Skipping NEW ZEALAND - न्यूज़ीलैंड\n",
            "Skipping SEA OF THE HEBRIDES - सी ऑफ हरब्रिड्‍स\n",
            "Skipping RAMCOIND - राम्को इंड\n",
            "Skipping KELVINGROVE ART GALLERY AND MUSEUM - केल्व‍िनग्रोव आर्ट एण्ड म्युज़ियम\n",
            "Skipping AUSTRALIAN NATIONAL UNIVERSITY - ऑस्ट्रेलियननेशनल यूनिवर्सिटी\n",
            "Skipping JAHAN AARA - जहाँआरा\n",
            "Skipping NAVABHARAT FERRO ALLOYS - नव भारत फ़ैरो अलॉय\n",
            "Skipping RAMA LINGESHWARA - रामालिंगेश्वर\n",
            "Skipping FAKHRUN NISA - फखरुन्निसा\n",
            "Skipping REDIFF.COM INDIA LIMITED - रेडिफ़ डॉट कॉम इंडिया लिमिटेड\n",
            "Skipping OMKARNATH THAKUR - ओंकार नाथ ठाकुर\n",
            "Skipping OPENTV - ओपन टीवी\n",
            "Skipping ENVOY COMMUNICATIONS GROUP - एन्वॉय कम्युनिकेशंस\n",
            "Skipping WAR OF THE HOLY LEAGUE - वार ऑफ होली लीग\n",
            "Skipping VAPARAISO CHURCH OF CHRIST - व्हापरासिओ\n",
            "Skipping PARIS CHARLES DE GAULLE - पेरिस रॉसे चार्ल्स डे ग्यूले\n",
            "Skipping PARKWAY APOSTOLIC - पार्क वे अपोस्टोलिक\n",
            "Skipping MAUNA LOA - मौनालोआ\n",
            "Skipping MASS MUTUAL LIFE - मास म्युच्युअल लाइफ़ इंश्योरेंस\n",
            "Skipping STATS CHIPPAC - स्टेट्सचिपपैक\n",
            "Skipping NEWFOUNDLAND - न्यू फाउंडलैंड\n",
            "Skipping LONDONHEATHROW - लंदन हीथ्रो\n",
            "Skipping RETALIX - रेटालिक्स लि.\n",
            "Skipping SRISAILAM - श्री शैलम\n",
            "Skipping KARA-KUM - काराकुम\n",
            "Skipping WIND RIVER - विंडरिवर\n",
            "Skipping NETAJI SUBHASH CHANDRA BOSE - नेताजी सुभाषचंद्र बोस\n",
            "Skipping ROCKBROOK UNITED - रॉकब्रुक यूनाइटेड मेथोडिस्ट\n",
            "Skipping WALTER SCOTT - वॉल्टरस्कॉट\n",
            "Skipping COLOURPLUS FASHIONS - कलर प्लस फ़ैशन्स\n",
            "Skipping BAL KRISHNA - बालकृष्णा\n"
          ]
        }
      ]
    },
    {
      "cell_type": "code",
      "source": [
        "for i in range(10):\n",
        "    eng,hindi = train_data.get_random_sample()\n",
        "    print(eng + '-' + hindi)"
      ],
      "metadata": {
        "collapsed": true,
        "id": "oNZ1wu-8XicG",
        "colab": {
          "base_uri": "https://localhost:8080/"
        },
        "outputId": "ae740a51-49fb-43e6-a65a-7a7f96cb424a"
      },
      "execution_count": null,
      "outputs": [
        {
          "output_type": "stream",
          "name": "stdout",
          "text": [
            "BLOCKHOUSE-ब्लॉकहाउस\n",
            "PHANSI-फाँसी\n",
            "MUJAFFARPUR-मुज़फ़्फ़रपुर\n",
            "ABBAD-अब्बाद\n",
            "SAMEERA-समीरा\n",
            "KRIKOR-क्रिकोर\n",
            "FORT-फोर्ट\n",
            "NAMAK-नमक\n",
            "SARKAR-सरकार\n",
            "YOGITA-योगिता\n"
          ]
        }
      ]
    },
    {
      "cell_type": "code",
      "source": [
        "def word_rep(word,letter2index):\n",
        "    rep = torch.zeros(len(word)+1,1,len(letter2index)).to(device)\n",
        "    for index,letter in enumerate(word):\n",
        "        rep[index+1,0,letter2index[letter]] = 1\n",
        "    rep[0,0,letter2index[pad_char]] = 1\n",
        "    return rep"
      ],
      "metadata": {
        "id": "gkIsVAhRYW3d"
      },
      "execution_count": null,
      "outputs": []
    },
    {
      "cell_type": "code",
      "source": [
        "def gt_rep(word,letter2index):\n",
        "    rep = torch.zeros([len(word)+1,1],dtype=torch.long).to(device)\n",
        "    for index,letter in enumerate(word):\n",
        "        rep[index][0] = letter2index[letter]\n",
        "    rep[index+1][0] = letter2index[pad_char]\n",
        "    return rep"
      ],
      "metadata": {
        "id": "jdgIXB_dcAVT"
      },
      "execution_count": null,
      "outputs": []
    },
    {
      "cell_type": "code",
      "source": [
        "eng,hindi = train_data.get_random_sample()\n",
        "print(eng+ '-' + hindi)\n",
        "word_rep(eng,eng_alpha2index)"
      ],
      "metadata": {
        "collapsed": true,
        "id": "SubiCMBlbiDp",
        "colab": {
          "base_uri": "https://localhost:8080/"
        },
        "outputId": "f3040f81-941a-4e94-fdc2-5613e4e3bf53"
      },
      "execution_count": null,
      "outputs": [
        {
          "output_type": "stream",
          "name": "stdout",
          "text": [
            "SULALITA-सुललिता\n"
          ]
        },
        {
          "output_type": "execute_result",
          "data": {
            "text/plain": [
              "tensor([[[1., 0., 0., 0., 0., 0., 0., 0., 0., 0., 0., 0., 0., 0., 0., 0., 0.,\n",
              "          0., 0., 0., 0., 0., 0., 0., 0., 0., 0.]],\n",
              "\n",
              "        [[0., 0., 0., 0., 0., 0., 0., 0., 0., 0., 0., 0., 0., 0., 0., 0., 0.,\n",
              "          0., 0., 1., 0., 0., 0., 0., 0., 0., 0.]],\n",
              "\n",
              "        [[0., 0., 0., 0., 0., 0., 0., 0., 0., 0., 0., 0., 0., 0., 0., 0., 0.,\n",
              "          0., 0., 0., 0., 1., 0., 0., 0., 0., 0.]],\n",
              "\n",
              "        [[0., 0., 0., 0., 0., 0., 0., 0., 0., 0., 0., 0., 1., 0., 0., 0., 0.,\n",
              "          0., 0., 0., 0., 0., 0., 0., 0., 0., 0.]],\n",
              "\n",
              "        [[0., 1., 0., 0., 0., 0., 0., 0., 0., 0., 0., 0., 0., 0., 0., 0., 0.,\n",
              "          0., 0., 0., 0., 0., 0., 0., 0., 0., 0.]],\n",
              "\n",
              "        [[0., 0., 0., 0., 0., 0., 0., 0., 0., 0., 0., 0., 1., 0., 0., 0., 0.,\n",
              "          0., 0., 0., 0., 0., 0., 0., 0., 0., 0.]],\n",
              "\n",
              "        [[0., 0., 0., 0., 0., 0., 0., 0., 0., 1., 0., 0., 0., 0., 0., 0., 0.,\n",
              "          0., 0., 0., 0., 0., 0., 0., 0., 0., 0.]],\n",
              "\n",
              "        [[0., 0., 0., 0., 0., 0., 0., 0., 0., 0., 0., 0., 0., 0., 0., 0., 0.,\n",
              "          0., 0., 0., 1., 0., 0., 0., 0., 0., 0.]],\n",
              "\n",
              "        [[0., 1., 0., 0., 0., 0., 0., 0., 0., 0., 0., 0., 0., 0., 0., 0., 0.,\n",
              "          0., 0., 0., 0., 0., 0., 0., 0., 0., 0.]]], device='cuda:0')"
            ]
          },
          "metadata": {},
          "execution_count": 21
        }
      ]
    },
    {
      "cell_type": "code",
      "source": [
        "gt_rep(hindi,hindi_alpha2index)"
      ],
      "metadata": {
        "id": "T4WzOE5zckg6",
        "colab": {
          "base_uri": "https://localhost:8080/"
        },
        "outputId": "7a15bfe4-beed-4f03-a1a5-8b807fb726e6"
      },
      "execution_count": null,
      "outputs": [
        {
          "output_type": "execute_result",
          "data": {
            "text/plain": [
              "tensor([[57],\n",
              "        [66],\n",
              "        [51],\n",
              "        [51],\n",
              "        [64],\n",
              "        [37],\n",
              "        [63],\n",
              "        [ 0]], device='cuda:0')"
            ]
          },
          "metadata": {},
          "execution_count": 22
        }
      ]
    },
    {
      "cell_type": "code",
      "source": [
        "MAX_OUTPUT_CHARS = 30\n",
        "class Transliteration_EncoderDecoder(nn.Module):\n",
        "    def __init__(self,input_size,hidden_size,output_size, verbose=False):\n",
        "        super(Transliteration_EncoderDecoder,self).__init__()\n",
        "        self.hidden_size = hidden_size\n",
        "        self.output_size = output_size\n",
        "        self.verbose = verbose\n",
        "\n",
        "        self.encoder = nn.GRU(input_size,hidden_size)\n",
        "        self.decoder = nn.GRU(output_size,hidden_size)\n",
        "        self.h2o = nn.Linear(hidden_size,output_size)\n",
        "        self.softmax = nn.LogSoftmax(dim=2)\n",
        "        self.to(device)\n",
        "\n",
        "    def forward(self,input,max_output_chars = MAX_OUTPUT_CHARS,ground_truth = None):\n",
        "        #ENCODER\n",
        "        output,hidden = self.encoder(input)\n",
        "\n",
        "        #if self.verbose:\n",
        "            #print('Encoder input shape:',input.shape)\n",
        "            #print('Encoder output shape:',output.shape)\n",
        "            #print('Encoder hidden shape:',hidden.shape)\n",
        "\n",
        "        #DECODER\n",
        "        decoder_state = hidden\n",
        "        decoder_input = torch.zeros(1,1,self.output_size).to(device)\n",
        "        outputs = []\n",
        "\n",
        "        #if self.verbose:\n",
        "            #print('Decoder State', decoder_state.shape)\n",
        "           # print('Decoder input', decoder_input.shape)\n",
        "\n",
        "        for i in range(max_output_chars):\n",
        "            decoder_output, decoder_state = self.decoder(decoder_input,decoder_state)\n",
        "\n",
        "            #if self.verbose:\n",
        "               # print('Decoder hidden shape:',decoder_output.shape)\n",
        "\n",
        "            decoder_output = self.h2o(decoder_state)\n",
        "            decoder_output = self.softmax(decoder_output)\n",
        "            outputs.append(decoder_output.view(1,-1))\n",
        "\n",
        "            if self.verbose:\n",
        "                #print('Decoder output shape:',decoder_output.shape)\n",
        "                self.verbose = False\n",
        "\n",
        "            max_idx = torch.argmax(decoder_output,dim=2,keepdim=True)\n",
        "            if not ground_truth is None:\n",
        "              max_idx = ground_truth[i].reshape(1,1,1)\n",
        "            one_hot = torch.zeros_like(decoder_output)\n",
        "            #one_hot.zero_()\n",
        "            one_hot.scatter_(2,max_idx,1)\n",
        "            decoder_input = one_hot.detach()\n",
        "        return outputs"
      ],
      "metadata": {
        "id": "luWs2HncddmZ"
      },
      "execution_count": null,
      "outputs": []
    },
    {
      "cell_type": "code",
      "source": [
        "net = Transliteration_EncoderDecoder(len(eng_alpha2index),256,len(hindi_alpha2index),verbose=True)"
      ],
      "metadata": {
        "id": "oCOZHMp1ka7d"
      },
      "execution_count": null,
      "outputs": []
    },
    {
      "cell_type": "code",
      "source": [
        "def infer(net, word, max_output_chars):\n",
        "    word_ohe = word_rep(list(word), eng_alpha2index)\n",
        "    outputs = net(word_ohe, max_output_chars)\n",
        "    return outputs"
      ],
      "metadata": {
        "id": "k2oXkVHIl2cT"
      },
      "execution_count": null,
      "outputs": []
    },
    {
      "cell_type": "code",
      "source": [
        "out = infer(net,'INDIA',30)"
      ],
      "metadata": {
        "id": "oKlEE7C1khH7"
      },
      "execution_count": null,
      "outputs": []
    },
    {
      "cell_type": "code",
      "source": [
        "MAX_OUTPUT_CHARS = 30\n",
        "class Transliteration_EncoderDecoder_Attention(nn.Module):\n",
        "    def __init__(self,input_size,hidden_size,output_size, verbose=False):\n",
        "        super(Transliteration_EncoderDecoder_Attention,self).__init__()\n",
        "        self.hidden_size = hidden_size\n",
        "        self.output_size = output_size\n",
        "        self.verbose = verbose\n",
        "\n",
        "        self.encoder = nn.GRU(input_size,hidden_size)\n",
        "        self.decoder = nn.GRU(hidden_size*2,hidden_size)\n",
        "        self.h2o = nn.Linear(hidden_size,output_size)\n",
        "        self.softmax = nn.LogSoftmax(dim=2)\n",
        "\n",
        "        self.U = nn.Linear(self.hidden_size,self.hidden_size)\n",
        "        self.W = nn.Linear(self.hidden_size,self.hidden_size)\n",
        "        self.attn = nn.Linear(self.hidden_size,1)\n",
        "        self.out2hidden = nn.Linear(self.output_size,self.hidden_size)\n",
        "        self.to(device)\n",
        "\n",
        "    def forward(self, input, max_output_chars=MAX_OUTPUT_CHARS, ground_truth=None):\n",
        "        # ENCODER\n",
        "        encoder_output, hidden = self.encoder(input)\n",
        "        encoder_output = encoder_output.squeeze(1)\n",
        "\n",
        "        # DECODER\n",
        "        decoder_state = hidden\n",
        "        decoder_input = torch.zeros(1, 1, self.output_size).to(device)\n",
        "        outputs = []\n",
        "        U = self.U(encoder_output)\n",
        "\n",
        "        for i in range(max_output_chars):\n",
        "            decoder_state_ = decoder_state.squeeze(0).squeeze(0)\n",
        "            W = self.W(decoder_state_)\n",
        "            W = W.unsqueeze(0).repeat(encoder_output.shape[0], 1)\n",
        "            V = self.attn(torch.tanh(U + W))\n",
        "\n",
        "            attn_weights = F.softmax(V, dim=0)\n",
        "\n",
        "            attn_applied = torch.mm(attn_weights.T, encoder_output)\n",
        "            embedding = self.out2hidden(decoder_input)\n",
        "            decoder_input = torch.cat((embedding, attn_applied.unsqueeze(0)), dim=2)\n",
        "            decoder_output, decoder_state = self.decoder(decoder_input, decoder_state)\n",
        "            decoder_output = self.h2o(decoder_state)\n",
        "            decoder_output = self.softmax(decoder_output)\n",
        "            outputs.append(decoder_output.view(1, -1))\n",
        "\n",
        "            max_idx = torch.argmax(decoder_output, dim=2, keepdim=True)\n",
        "            if ground_truth is not None:\n",
        "                max_idx = ground_truth[i].reshape(1, 1, 1)\n",
        "            one_hot = torch.zeros_like(decoder_output)\n",
        "            one_hot.scatter_(2, max_idx, 1)\n",
        "            decoder_input = one_hot.detach()\n",
        "\n",
        "        return outputs"
      ],
      "metadata": {
        "id": "Q4d7Rr_2mVTy"
      },
      "execution_count": null,
      "outputs": []
    },
    {
      "cell_type": "code",
      "source": [
        "net = Transliteration_EncoderDecoder_Attention(len(eng_alpha2index),256,len(hindi_alpha2index),verbose=True)"
      ],
      "metadata": {
        "id": "9t0pM08EuC47"
      },
      "execution_count": null,
      "outputs": []
    },
    {
      "cell_type": "code",
      "source": [
        "def train_batch(net, opt, criterion, batch_size, teacher_force=False):\n",
        "    net.train()\n",
        "    opt.zero_grad()\n",
        "    eng_batch, hindi_batch = train_data.get_batch(batch_size)\n",
        "    total_loss = 0\n",
        "\n",
        "    for i in range(batch_size):\n",
        "        eng_ohe = word_rep(eng_batch[i], eng_alpha2index)\n",
        "        hindi_gt = gt_rep(hindi_batch[i], hindi_alpha2index)\n",
        "        outputs = net(eng_ohe, max_output_chars=hindi_gt.shape[0], ground_truth=hindi_gt if teacher_force else None)\n",
        "\n",
        "        loss = 0\n",
        "        for idx, out in enumerate(outputs):\n",
        "            loss += criterion(out, hindi_gt[idx])\n",
        "        loss = loss / batch_size\n",
        "        loss.backward()\n",
        "        total_loss += loss.item()\n",
        "        #torch.nn.utils.clip_grad_norm_(net.parameters(), max_norm=5.0)\n",
        "\n",
        "    opt.step()\n",
        "    return total_loss / batch_size"
      ],
      "metadata": {
        "id": "zhB4Yzk7uNwI"
      },
      "execution_count": null,
      "outputs": []
    },
    {
      "cell_type": "code",
      "source": [
        "def train_setup(net,lr = 0.001,n_batches = 100, batch_size = 10, momentum = 0.9, display_freq = 5):\n",
        "    criterion = nn.NLLLoss(ignore_index=-1).to(device)\n",
        "    opt = optim.Adam(net.parameters(),lr=lr)\n",
        "    teacher_force_upto = n_batches//3\n",
        "    loss_arr = np.zeros(n_batches+1)\n",
        "\n",
        "    for i in range(n_batches):\n",
        "        loss_arr[i+1] = (loss_arr[i]* i + train_batch(net,opt,criterion,batch_size, teacher_force= i<teacher_force_upto))/(i+1)\n",
        "        if i%display_freq == display_freq-1:\n",
        "            clear_output(wait=True)\n",
        "\n",
        "            print('Iteration',i, 'Loss', loss_arr[i])\n",
        "            plt.figure()\n",
        "            plt.plot(loss_arr[1:i],'-*')\n",
        "            plt.xlabel('Iteration')\n",
        "            plt.ylabel('Loss')\n",
        "            plt.show()\n",
        "            print('\\n\\n')\n",
        "    torch.save(net,'model.pt')\n",
        "    return loss_arr"
      ],
      "metadata": {
        "id": "847aA7kr6svq"
      },
      "execution_count": null,
      "outputs": []
    },
    {
      "cell_type": "code",
      "source": [
        "net = Transliteration_EncoderDecoder(len(eng_alpha2index),256,len(hindi_alpha2index),verbose=True)\n",
        "net.to(device)"
      ],
      "metadata": {
        "collapsed": true,
        "id": "dQPm0zTM7s8e",
        "colab": {
          "base_uri": "https://localhost:8080/"
        },
        "outputId": "b2031416-25e9-4489-cd57-44f06317e3d6"
      },
      "execution_count": null,
      "outputs": [
        {
          "output_type": "execute_result",
          "data": {
            "text/plain": [
              "Transliteration_EncoderDecoder(\n",
              "  (encoder): GRU(27, 256)\n",
              "  (decoder): GRU(129, 256)\n",
              "  (h2o): Linear(in_features=256, out_features=129, bias=True)\n",
              "  (softmax): LogSoftmax(dim=2)\n",
              ")"
            ]
          },
          "metadata": {},
          "execution_count": 31
        }
      ]
    },
    {
      "cell_type": "code",
      "source": [
        "train_setup(net, lr=0.001, n_batches= 2500, batch_size=128, display_freq=5)"
      ],
      "metadata": {
        "id": "OtgC4Lk-70dY",
        "colab": {
          "base_uri": "https://localhost:8080/",
          "height": 556
        },
        "outputId": "aba6578e-2b04-4f96-cead-f5a6e403429d"
      },
      "execution_count": null,
      "outputs": [
        {
          "output_type": "stream",
          "name": "stdout",
          "text": [
            "Iteration 2499 Loss 0.07238032317529156\n"
          ]
        },
        {
          "output_type": "display_data",
          "data": {
            "text/plain": [
              "<Figure size 640x480 with 1 Axes>"
            ],
            "image/png": "[encoded data removed]"
          },
          "metadata": {}
        },
        {
          "output_type": "stream",
          "name": "stdout",
          "text": [
            "\n",
            "\n",
            "\n"
          ]
        },
        {
          "output_type": "execute_result",
          "data": {
            "text/plain": [
              "array([0.        , 0.25404988, 0.24695769, ..., 0.07239287, 0.07238032,\n",
              "       0.07236599])"
            ]
          },
          "metadata": {},
          "execution_count": 32
        }
      ]
    },
    {
      "cell_type": "code",
      "source": [
        "net_attn = Transliteration_EncoderDecoder_Attention(len(eng_alpha2index),256,len(hindi_alpha2index),verbose=True)\n",
        "net_attn.to(device)"
      ],
      "metadata": {
        "id": "Bk4DWrdv7_7l",
        "colab": {
          "base_uri": "https://localhost:8080/"
        },
        "outputId": "bc7946c0-6165-41b9-e439-82bf675101ae"
      },
      "execution_count": null,
      "outputs": [
        {
          "output_type": "execute_result",
          "data": {
            "text/plain": [
              "Transliteration_EncoderDecoder_Attention(\n",
              "  (encoder): GRU(27, 256)\n",
              "  (decoder): GRU(512, 256)\n",
              "  (h2o): Linear(in_features=256, out_features=129, bias=True)\n",
              "  (softmax): LogSoftmax(dim=2)\n",
              "  (U): Linear(in_features=256, out_features=256, bias=True)\n",
              "  (W): Linear(in_features=256, out_features=256, bias=True)\n",
              "  (attn): Linear(in_features=256, out_features=1, bias=True)\n",
              "  (out2hidden): Linear(in_features=129, out_features=256, bias=True)\n",
              ")"
            ]
          },
          "metadata": {},
          "execution_count": 33
        }
      ]
    },
    {
      "cell_type": "code",
      "source": [
        "train_setup(net_attn, lr=0.001, n_batches=2500, batch_size=128, display_freq=5)"
      ],
      "metadata": {
        "id": "qcUkYGiM8LbO",
        "colab": {
          "base_uri": "https://localhost:8080/",
          "height": 556
        },
        "outputId": "b159cf58-86a5-42f8-8b52-e8ed835f959e"
      },
      "execution_count": null,
      "outputs": [
        {
          "output_type": "stream",
          "name": "stdout",
          "text": [
            "Iteration 2499 Loss 0.05367061867384105\n"
          ]
        },
        {
          "output_type": "display_data",
          "data": {
            "text/plain": [
              "<Figure size 640x480 with 1 Axes>"
            ],
            "image/png": "[encoded data removed]"
          },
          "metadata": {}
        },
        {
          "output_type": "stream",
          "name": "stdout",
          "text": [
            "\n",
            "\n",
            "\n"
          ]
        },
        {
          "output_type": "execute_result",
          "data": {
            "text/plain": [
              "array([0.        , 0.2527363 , 0.25540788, ..., 0.05368074, 0.05367062,\n",
              "       0.05365996])"
            ]
          },
          "metadata": {},
          "execution_count": 34
        }
      ]
    },
    {
      "cell_type": "code",
      "source": [
        "def calc_acc(net):\n",
        "    net.eval()\n",
        "    predictions = []\n",
        "    acc = 0\n",
        "    for i in range(len(test_data)):\n",
        "        eng,hindi = test_data[i]\n",
        "        gt = gt_rep(hindi,hindi_alpha2index)\n",
        "        outputs = infer(net,eng,gt.shape[0])\n",
        "        correct = 0\n",
        "        for index,char in enumerate(outputs):\n",
        "            val,indices = char.topk(1)\n",
        "            hindi_pos = indices.tolist()[0]\n",
        "            if hindi_pos[0] == gt[index][0]:\n",
        "                correct += 1\n",
        "        acc += correct/gt.shape[0]\n",
        "    return acc/len(test_data)"
      ],
      "metadata": {
        "id": "oD3Vfw0afwQL"
      },
      "execution_count": null,
      "outputs": []
    },
    {
      "cell_type": "code",
      "source": [
        "accuracy = calc_acc(net)*100\n",
        "accuracy_attn = calc_acc(net_attn)*100\n",
        "print('Accuracy without attention:',accuracy)\n",
        "print('Accuracy with attention:',accuracy_attn)"
      ],
      "metadata": {
        "id": "rME42eeLfygU",
        "colab": {
          "base_uri": "https://localhost:8080/"
        },
        "outputId": "07c08f19-0314-4cd4-9d48-6f99babf8937"
      },
      "execution_count": null,
      "outputs": [
        {
          "output_type": "stream",
          "name": "stdout",
          "text": [
            "Accuracy without attention: 69.29829947829947\n",
            "Accuracy with attention: 75.3074977799978\n"
          ]
        }
      ]
    },
    {
      "cell_type": "code",
      "source": [
        "def test(net,word):\n",
        "    net.eval()\n",
        "    outputs = infer(net,word,30)\n",
        "    hindi_output = ''\n",
        "    for output in outputs:\n",
        "        val,indices = output.topk(1)\n",
        "        hindi_pos = indices.tolist()[0]\n",
        "        if hindi_pos[0] == 0:\n",
        "            break\n",
        "        hindi_output += hindi_alphabets[hindi_pos[0]]\n",
        "    print(word +'-' + hindi_output)\n",
        "    return hindi_output"
      ],
      "metadata": {
        "id": "uVY6Kss__lpG"
      },
      "execution_count": null,
      "outputs": []
    },
    {
      "cell_type": "code",
      "source": [
        "test(net,'')"
      ],
      "metadata": {
        "id": "djJ2reudBtw-",
        "colab": {
          "base_uri": "https://localhost:8080/",
          "height": 53
        },
        "outputId": "2c842d04-1dad-493c-f1c6-d32b3c9d9cb1"
      },
      "execution_count": null,
      "outputs": [
        {
          "output_type": "stream",
          "name": "stdout",
          "text": [
            "HOME-ऺौय\n"
          ]
        },
        {
          "output_type": "execute_result",
          "data": {
            "text/plain": [
              "'ऺौय'"
            ],
            "application/vnd.google.colaboratory.intrinsic+json": {
              "type": "string"
            }
          },
          "metadata": {},
          "execution_count": 44
        }
      ]
    },
    {
      "cell_type": "code",
      "source": [
        "test(net_attn,'HOME')"
      ],
      "metadata": {
        "id": "GQgBM67vBySf",
        "colab": {
          "base_uri": "https://localhost:8080/",
          "height": 53
        },
        "outputId": "4e0a6b3a-968f-4152-ee56-208a4ce65154"
      },
      "execution_count": null,
      "outputs": [
        {
          "output_type": "stream",
          "name": "stdout",
          "text": [
            "HOME-ऺौय\n"
          ]
        },
        {
          "output_type": "execute_result",
          "data": {
            "text/plain": [
              "'ऺौय'"
            ],
            "application/vnd.google.colaboratory.intrinsic+json": {
              "type": "string"
            }
          },
          "metadata": {},
          "execution_count": 45
        }
      ]
    },
    {
      "cell_type": "code",
      "source": [],
      "metadata": {
        "id": "ONnItJI3FqQ9"
      },
      "execution_count": null,
      "outputs": []
    }
  ]
}